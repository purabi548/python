{
 "cells": [
  {
   "cell_type": "markdown",
   "id": "c661f892-ee41-4407-a1e3-8a8b4c44ac33",
   "metadata": {},
   "source": [
    "BASIC STRUCTURE\n",
    "1.\tWrite a Python script that prints a welcome message for the Library Management System.\n",
    "2.\tDefine an initial list or dictionary to store books, with details like title, author, and availability.\n"
   ]
  },
  {
   "cell_type": "code",
   "execution_count": 5,
   "id": "8ef67f9b-784e-4111-bbb2-ba1ed3903b20",
   "metadata": {},
   "outputs": [
    {
     "name": "stdout",
     "output_type": "stream",
     "text": [
      "Welcome to the Library Management System\n",
      "Please login to access the LMS\n"
     ]
    }
   ],
   "source": [
    "def welcome_message():\n",
    "    print(\"Welcome to the Library Management System\")\n",
    "    print(\"Please login to access the LMS\")\n",
    "\n",
    "welcome_message()\n",
    "library = {\n",
    "    \"Atomic Habits\": {\"author\": \"James Clear\", \"available\": True, \"issued_to\": None},\n",
    "    \"To the Lighthouse\": {\"author\": \"Virginia Woolf\", \"available\": False, \"issued_to\": \"Purabi\"}\n",
    "} #predefined library"
   ]
  },
  {
   "cell_type": "markdown",
   "id": "2ed192c3-11ae-40f5-a6b2-c52646638c8c",
   "metadata": {},
   "source": [
    "3.\tWrite a function to display all the books with their details"
   ]
  },
  {
   "cell_type": "code",
   "execution_count": 25,
   "id": "3cae027b-07f3-4075-b430-17627976ba80",
   "metadata": {},
   "outputs": [
    {
     "name": "stdout",
     "output_type": "stream",
     "text": [
      "List of Books in the Library with thier details:\n",
      "                            \n",
      "Title:Atomic Habits, Author:Kafka, Availability:True, Issued to:None\n",
      "Title:To the Lighthouse, Author:Virginia Woolf, Availability:False, Issued to:Purabi\n"
     ]
    }
   ],
   "source": [
    "def display_books(library):\n",
    "    print(\"List of Books in the Library with thier details:\")\n",
    "    print(\"                            \")\n",
    "    for title, details in library.items(): #iterate over the library \n",
    "        print(f\"Title:{title}, Author:{details['author']}, Availability:{details['available']}, Issued to:{details['issued_to']}\")\n",
    "display_books(library)\n"
   ]
  },
  {
   "cell_type": "markdown",
   "id": "c474ed76-1aca-42c4-8788-15e7cf186d59",
   "metadata": {},
   "source": [
    "STEP 2: ADDING BOOKS\n",
    "4.\tCreate a function to allow a user to add a new book to the system. The function should:\n",
    "o\tAccept inputs for the title and author.\n",
    "o\tCheck if the book already exists in the dictionary.\n",
    "o\tAdd the book if it doesn’t exist.\n"
   ]
  },
  {
   "cell_type": "code",
   "execution_count": 27,
   "id": "047423b4-1a76-462f-b681-965271f1c2c9",
   "metadata": {},
   "outputs": [
    {
     "name": "stdin",
     "output_type": "stream",
     "text": [
      "Enter the book title:  atomic habits\n",
      "Enter the author's name:  james clear\n"
     ]
    },
    {
     "name": "stdout",
     "output_type": "stream",
     "text": [
      "the book 'atomic habits' by james clear already exist in the system.\n"
     ]
    }
   ],
   "source": [
    "def add_book(library):\n",
    "    title = input(\"Enter the book title: \").lower().strip() #convert the input to lower case and make avoid spaces and case sensitivity\n",
    "    author = input(\"Enter the author's name: \").lower().strip()\n",
    "    if title in[book.lower() for book in library]: #chcek if the book exist, book.lower()ensures that we are converting the keys to lower case before beng compared\n",
    "        print(f\"the book '{title}' by {author} already exist in the system.\")\n",
    "        return\n",
    "    else:\n",
    "        library[title] = {\"author\": author, \"available\": True,\"issued_to\": None} #if no book is found the book is added to the library\n",
    "        print(f\"'{title}' by {author} has been added to the system.\")\n",
    "            \n",
    "add_book(library)"
   ]
  },
  {
   "cell_type": "markdown",
   "id": "51ffa1ea-7886-4135-a6dc-46fef6807348",
   "metadata": {},
   "source": [
    "STEP 3: ISSUING BOOKS\n",
    "5.\tCreate a function to issue a book. The function should:\n",
    "o\tCheck if the book exists and is available.\n",
    "o\tMark it as unavailable if issued and record the name of the person issuing it.\n"
   ]
  },
  {
   "cell_type": "code",
   "execution_count": 29,
   "id": "459439fb-930a-4272-a757-e06534bba9c9",
   "metadata": {},
   "outputs": [
    {
     "name": "stdin",
     "output_type": "stream",
     "text": [
      "enter the book name: atomic habits\n",
      "enter the person name: alice\n"
     ]
    },
    {
     "name": "stdout",
     "output_type": "stream",
     "text": [
      "The book 'Atomic Habits' has been issued to alice.\n"
     ]
    }
   ],
   "source": [
    "def issue_book():\n",
    "    book_name=input(\"enter the book name:\").lower().strip()\n",
    "    person_name=input(\"enter the person name:\").lower().strip()\n",
    "    for title in library:\n",
    "        if title.lower() == book_name:  # Case-insensitive comparison\n",
    "            book = library[title]\n",
    "            if book[\"available\"]:\n",
    "                book[\"available\"] = False #we update the availability in the library \n",
    "                book[\"issued_to\"]=person_name #update with the name of the person issuing the book\n",
    "                print(f\"The book '{title}' has been issued to {person_name}.\")\n",
    "            else:\n",
    "                print(f\"The book '{title}' is currently unavailable.\")\n",
    "            break \n",
    "    else:\n",
    "        print(f\"The book '{book_name}' does not exist in the library.\")\n",
    "issue_book()"
   ]
  },
  {
   "cell_type": "markdown",
   "id": "0fc10254-f799-40b4-ba2e-63e1e6dd1d44",
   "metadata": {},
   "source": [
    "6.\tModify the display function to show the current status of the book (Available or Issued).\n"
   ]
  },
  {
   "cell_type": "code",
   "execution_count": 37,
   "id": "92d176ca-40e5-487c-81d6-1aecf169e7f4",
   "metadata": {},
   "outputs": [
    {
     "name": "stdout",
     "output_type": "stream",
     "text": [
      "Library Books and their status:\n",
      "Title: Atomic Habits, Author: Kafka, Status:Issued, issued_to: alice\n",
      "Title: To the Lighthouse, Author: Virginia Woolf, Status:Issued, issued_to: Purabi\n"
     ]
    }
   ],
   "source": [
    "def display_books():\n",
    "    print(\"Library Books and their status:\")\n",
    "    for title, details in library.items():\n",
    "        status = \"Available\" if details[\"available\"] else \"Issued\" #assign the status with Avaiable if the book is avaiable otherwise Issued\n",
    "        issued_to = details[\"issued_to\"] if details[\"issued_to\"] else \"N/A\"\n",
    "        print(f\"Title: {title}, Author: {details['author']}, Status:{status}, issued_to: {details['issued_to']}\")\n",
    "display_books()"
   ]
  },
  {
   "cell_type": "markdown",
   "id": "1a30cc92-6c6d-475b-bfff-278ab51b89d3",
   "metadata": {},
   "source": [
    "STEP 4: RETURNING BOOKS\n",
    "7.\tCreate a function to return a book. The function should:\n",
    "o\tCheck if the book exists and is currently issued.\n",
    "o\tMark it as available again upon return.\n"
   ]
  },
  {
   "cell_type": "code",
   "execution_count": 39,
   "id": "8acc8f05-25e8-4214-b340-434e445df9a1",
   "metadata": {},
   "outputs": [
    {
     "name": "stdin",
     "output_type": "stream",
     "text": [
      "Enter the book name to return:  atomic habits\n"
     ]
    },
    {
     "name": "stdout",
     "output_type": "stream",
     "text": [
      "The book 'Atomic Habits' has been successfully returned.\n",
      "Library Books and their status:\n",
      "Title: Atomic Habits, Author: Kafka, Status:Available, issued_to: None\n",
      "Title: To the Lighthouse, Author: Virginia Woolf, Status:Issued, issued_to: Purabi\n"
     ]
    }
   ],
   "source": [
    "def return_book():\n",
    "    book_name = input(\"Enter the book name to return: \").strip().lower()  # Convert to lowercase and strip spaces\n",
    "    for title in library:\n",
    "        if title.lower() == book_name:  # Case-insensitive comparison\n",
    "            book = library[title]\n",
    "            if not book[\"available\"]:\n",
    "                book[\"available\"] = True #update the library after upon return\n",
    "                book[\"issued_to\"]= None\n",
    "                print(f\"The book '{title}' has been successfully returned.\")\n",
    "            else:\n",
    "                print(f\"The book '{title}' was never issued.\")\n",
    "            break  #exit the loop after the condition is met\n",
    "    else:\n",
    "        print(f\"The book '{book_name}' does not exist in the library.\")\n",
    "return_book()\n",
    "display_books()"
   ]
  },
  {
   "cell_type": "markdown",
   "id": "0665c28e-5d30-4caa-b44b-adc86dfcd155",
   "metadata": {},
   "source": [
    "STEP 5: LOGIN SYSTEM\n",
    "8.\tImplement a login system:\n",
    "o\tStore usernames and passwords in a dictionary. You can have some predefined stored credentials like below:\n",
    "credentials = {\"admin\": \"admin123\", \"librarian\": \"lib123\"}\n",
    "o\tPrompt users to log in before accessing the system.\n",
    "o\tAllow up to 3 attempts before exiting.\n"
   ]
  },
  {
   "cell_type": "code",
   "execution_count": 41,
   "id": "cbef5d83-4e95-479d-a63e-ce33376aa562",
   "metadata": {},
   "outputs": [
    {
     "name": "stdin",
     "output_type": "stream",
     "text": [
      "Enter username:  admin\n",
      "Enter password:  admin123\n"
     ]
    },
    {
     "data": {
      "text/plain": [
       "True"
      ]
     },
     "execution_count": 41,
     "metadata": {},
     "output_type": "execute_result"
    }
   ],
   "source": [
    "credentials = {\n",
    "    \"admin\": \"admin123\",\n",
    "    \"librarian\": \"lib123\"\n",
    "}\n",
    "def login_system(): \n",
    "    attempts = 0 \n",
    "    while attempts < 3: #run the loop for 3 times, ie for attemmpt=0,1,2\n",
    "        username = input(\"Enter username: \").strip() \n",
    "        password = input(\"Enter password: \").strip()\n",
    "        if username in credentials and credentials[username] == password:\n",
    "            return True\n",
    "        else:\n",
    "            attempts += 1 \n",
    "            print(f\"Invalid credentials. You have {3 - attempts} attempt left.\")\n",
    "    print(\"Too many failed attempts. Exiting the system.\") \n",
    "    return False\n",
    "login_system()\n"
   ]
  },
  {
   "cell_type": "markdown",
   "id": "7b61af65-ba51-499c-bfde-39d30afd55f6",
   "metadata": {},
   "source": [
    "STEP 6: VIEW ISSUED BOOKS\n",
    "9.\tAdd a function to view all books that are currently issued, along with the name of the person who issued them.\n"
   ]
  },
  {
   "cell_type": "code",
   "execution_count": 45,
   "id": "5a2b990f-fabf-4bab-82ff-01e4805dab31",
   "metadata": {},
   "outputs": [
    {
     "name": "stdout",
     "output_type": "stream",
     "text": [
      "Books Currently Issued:\n",
      "Title: To the Lighthouse, Issued To: Purabi\n"
     ]
    }
   ],
   "source": [
    "def view_issued_books():\n",
    "    print(\"Books Currently Issued:\")\n",
    "    issued_books = False \n",
    "    for title, details in library.items():\n",
    "        if not details[\"available\"]: #check for the avaiability of the book in the library \n",
    "            print(f\"Title: {title}, Issued To: {details['issued_to']}\")\n",
    "            issued_books = True # assign it as true if one or more books are issued\n",
    "    if not issued_books: \n",
    "        print(\"No books are currently issued.\")\n",
    "view_issued_books()"
   ]
  },
  {
   "cell_type": "markdown",
   "id": "4a9a539c-49e7-4e51-81d4-a2791e961135",
   "metadata": {},
   "source": [
    "STEP : MAIN MENU \n",
    "10.\tCombine all the functions into a menu-driven program:\n",
    "o\tUse a while loop to display options like:\n",
    "\tView Books\n",
    "\tAdd a Book\n",
    "\tIssue a Book\n",
    "\tReturn a Book\n",
    "\tView Issued Books\n",
    "\tExit\n"
   ]
  },
  {
   "cell_type": "code",
   "execution_count": 57,
   "id": "f46daaf1-2f53-4c3b-8490-05e4133254c1",
   "metadata": {},
   "outputs": [
    {
     "name": "stdout",
     "output_type": "stream",
     "text": [
      "          Welcome to the Library Management System          \n",
      "     Please login to access the library management system      \n"
     ]
    },
    {
     "name": "stdin",
     "output_type": "stream",
     "text": [
      "Enter username:  admin\n",
      "Enter password:  admin123\n"
     ]
    },
    {
     "name": "stdout",
     "output_type": "stream",
     "text": [
      "Library System Menu:\n",
      "1. View Books\n",
      "2. Add a Book\n",
      "3. Issue a Book\n",
      "4. Return a Book\n",
      "5. View Issued Books\n",
      "6. Exit\n"
     ]
    },
    {
     "name": "stdin",
     "output_type": "stream",
     "text": [
      "Choose an option (1-6):  1\n"
     ]
    },
    {
     "name": "stdout",
     "output_type": "stream",
     "text": [
      "Library Books along with their details and status:\n",
      "Title: Atomic Habits, Author: Kafka, Status: Available, issued_to = None\n",
      "Title: To the Lighthouse, Author: Virginia Woolf, Status: Issued, issued_to = Purabi\n",
      "Library System Menu:\n",
      "1. View Books\n",
      "2. Add a Book\n",
      "3. Issue a Book\n",
      "4. Return a Book\n",
      "5. View Issued Books\n",
      "6. Exit\n"
     ]
    },
    {
     "name": "stdin",
     "output_type": "stream",
     "text": [
      "Choose an option (1-6):  2\n",
      "Enter the book title:  atomic habits\n",
      "Enter the author's name:  james clear\n"
     ]
    },
    {
     "name": "stdout",
     "output_type": "stream",
     "text": [
      "the book 'atomic habits' by james clear already exist in the system.\n",
      "Library System Menu:\n",
      "1. View Books\n",
      "2. Add a Book\n",
      "3. Issue a Book\n",
      "4. Return a Book\n",
      "5. View Issued Books\n",
      "6. Exit\n"
     ]
    },
    {
     "name": "stdin",
     "output_type": "stream",
     "text": [
      "Choose an option (1-6):  2\n",
      "Enter the book title:  the trial\n",
      "Enter the author's name:  franz kafka\n"
     ]
    },
    {
     "name": "stdout",
     "output_type": "stream",
     "text": [
      "'the trial' by franz kafka has been added to the system.\n",
      "Library System Menu:\n",
      "1. View Books\n",
      "2. Add a Book\n",
      "3. Issue a Book\n",
      "4. Return a Book\n",
      "5. View Issued Books\n",
      "6. Exit\n"
     ]
    },
    {
     "name": "stdin",
     "output_type": "stream",
     "text": [
      "Choose an option (1-6):  1\n"
     ]
    },
    {
     "name": "stdout",
     "output_type": "stream",
     "text": [
      "Library Books along with their details and status:\n",
      "Title: Atomic Habits, Author: Kafka, Status: Available, issued_to = None\n",
      "Title: To the Lighthouse, Author: Virginia Woolf, Status: Issued, issued_to = Purabi\n",
      "Title: the trial, Author: franz kafka, Status: Available, issued_to = None\n",
      "Library System Menu:\n",
      "1. View Books\n",
      "2. Add a Book\n",
      "3. Issue a Book\n",
      "4. Return a Book\n",
      "5. View Issued Books\n",
      "6. Exit\n"
     ]
    },
    {
     "name": "stdin",
     "output_type": "stream",
     "text": [
      "Choose an option (1-6):  3\n",
      "enter the book name: the trial\n",
      "enter the person name: sonowal\n"
     ]
    },
    {
     "name": "stdout",
     "output_type": "stream",
     "text": [
      "The book 'the trial' has been issued to sonowal.\n",
      "Library System Menu:\n",
      "1. View Books\n",
      "2. Add a Book\n",
      "3. Issue a Book\n",
      "4. Return a Book\n",
      "5. View Issued Books\n",
      "6. Exit\n"
     ]
    },
    {
     "name": "stdin",
     "output_type": "stream",
     "text": [
      "Choose an option (1-6):  1\n"
     ]
    },
    {
     "name": "stdout",
     "output_type": "stream",
     "text": [
      "Library Books along with their details and status:\n",
      "Title: Atomic Habits, Author: Kafka, Status: Available, issued_to = None\n",
      "Title: To the Lighthouse, Author: Virginia Woolf, Status: Issued, issued_to = Purabi\n",
      "Title: the trial, Author: franz kafka, Status: Issued, issued_to = sonowal\n",
      "Library System Menu:\n",
      "1. View Books\n",
      "2. Add a Book\n",
      "3. Issue a Book\n",
      "4. Return a Book\n",
      "5. View Issued Books\n",
      "6. Exit\n"
     ]
    },
    {
     "name": "stdin",
     "output_type": "stream",
     "text": [
      "Choose an option (1-6):  4\n",
      "Enter the book name to return:  the trial\n"
     ]
    },
    {
     "name": "stdout",
     "output_type": "stream",
     "text": [
      "The book 'the trial' has been successfully returned.\n",
      "Library System Menu:\n",
      "1. View Books\n",
      "2. Add a Book\n",
      "3. Issue a Book\n",
      "4. Return a Book\n",
      "5. View Issued Books\n",
      "6. Exit\n"
     ]
    },
    {
     "name": "stdin",
     "output_type": "stream",
     "text": [
      "Choose an option (1-6):  5\n"
     ]
    },
    {
     "name": "stdout",
     "output_type": "stream",
     "text": [
      "Books Currently Issued:\n",
      "Title: To the Lighthouse, Issued To: Purabi\n",
      "Library System Menu:\n",
      "1. View Books\n",
      "2. Add a Book\n",
      "3. Issue a Book\n",
      "4. Return a Book\n",
      "5. View Issued Books\n",
      "6. Exit\n"
     ]
    },
    {
     "name": "stdin",
     "output_type": "stream",
     "text": [
      "Choose an option (1-6):  6\n"
     ]
    },
    {
     "name": "stdout",
     "output_type": "stream",
     "text": [
      "Exiting the library system. Goodbye!\n"
     ]
    }
   ],
   "source": [
    " credentials = {\n",
    "    \"admin\": \"admin123\",\n",
    "    \"librarian\": \"lib123\"\n",
    "}\n",
    "library = {\n",
    "    \"Atomic Habits\": {\"author\": \"Kafka\", \"available\": True, \"issued_to\": None},\n",
    "    \"To the Lighthouse\": {\"author\": \"Virginia Woolf\", \"available\": False, \"issued_to\": \"Purabi\"}\n",
    "}\n",
    "def welcome_message():\n",
    "    print(\"          Welcome to the Library Management System          \")\n",
    "    print(\"     Please login to access the library management system      \")\n",
    "    \n",
    "def login_system():\n",
    "    attempts = 0  \n",
    "    while attempts < 3:\n",
    "        username = input(\"Enter username: \").strip()\n",
    "        password = input(\"Enter password: \").strip()\n",
    "        if username in credentials and credentials[username] == password:\n",
    "            return True \n",
    "        else:\n",
    "            attempts += 1\n",
    "            print(f\"Invalid credentials. You have {3 - attempts} attempt(s) left.\")\n",
    "    print(\"Too many failed attempts. Exiting the system.\")\n",
    "    return False  \n",
    "    \n",
    "def display_books():\n",
    "    print(\"Library Books along with their details and status:\")\n",
    "    for title, details in library.items():  \n",
    "        status = \"Available\" if details[\"available\"] else \"Issued\"\n",
    "        issued_to = details[\"issued_to\"] if details[\"issued_to\"] else \"N/A\"\n",
    "        print(f\"Title: {title}, Author: {details['author']}, Status: {status}, issued_to = {details['issued_to']}\")\n",
    "\n",
    "def add_book():\n",
    "    title = input(\"Enter the book title: \").lower().strip() \n",
    "    author = input(\"Enter the author's name: \").lower().strip()\n",
    "    if title in[book.lower() for book in library]:\n",
    "        print(f\"the book '{title}' by {author} already exist in the system.\")\n",
    "        return\n",
    "    else:\n",
    "        library[title] = {\"author\": author, \"available\": True,\"issued_to\":None} \n",
    "        print(f\"'{title}' by {author} has been added to the system.\")\n",
    "\n",
    "def issue_book():\n",
    "    book_name=input(\"enter the book name:\").lower().strip()\n",
    "    person_name=input(\"enter the person name:\").lower().strip()\n",
    "    for title in library:  \n",
    "        if title.lower() == book_name: \n",
    "            book = library[title]\n",
    "            if book[\"available\"]:  \n",
    "                book[\"available\"] = False \n",
    "                book[\"issued_to\"]=person_name \n",
    "                print(f\"The book '{title}' has been issued to {person_name}.\")\n",
    "            else:\n",
    "                print(f\"The book '{title}' is currently unavailable.\")\n",
    "            break \n",
    "    else:\n",
    "        print(f\"The book '{book_name}' does not exist in the library.\")\n",
    "\n",
    "def return_book():\n",
    "    book_name = input(\"Enter the book name to return: \").strip().lower()\n",
    "    for title in library:  \n",
    "        if title.lower() == book_name:  \n",
    "            book = library[title]\n",
    "            if not book[\"available\"]:     \n",
    "                book[\"available\"] = True   \n",
    "                book[\"issued_to\"]= None\n",
    "                print(f\"The book '{title}' has been successfully returned.\")\n",
    "            else:\n",
    "                print(f\"The book '{title}' was never issued.\")\n",
    "            break\n",
    "    else:\n",
    "        print(f\"The book '{book_name}' does not exist in the library.\") \n",
    "\n",
    "def view_issued_books():\n",
    "    print(\"Books Currently Issued:\")\n",
    "    issued_books_found = False  \n",
    "    for title, details in library.items():\n",
    "        if not details[\"available\"]:  \n",
    "            print(f\"Title: {title}, Issued To: {details['issued_to']}\")\n",
    "            issued_books_found = True\n",
    "\n",
    "    if not issued_books_found:\n",
    "        print(\"No books are currently issued.\")\n",
    "\n",
    "def menu():\n",
    "    while True: #while True will allow the loop to run indefinitly until the user inputs 6. the break statement will stop the loop and end the program\n",
    "        print(\"Library System Menu:\")\n",
    "        print(\"1. View Books\")\n",
    "        print(\"2. Add a Book\")\n",
    "        print(\"3. Issue a Book\")\n",
    "        print(\"4. Return a Book\")\n",
    "        print(\"5. View Issued Books\")\n",
    "        print(\"6. Exit\")\n",
    "\n",
    "        choice = input(\"Choose an option (1-6): \").strip()\n",
    "\n",
    "        if choice == \"1\":\n",
    "            display_books()\n",
    "        elif choice == \"2\":\n",
    "            add_book()\n",
    "        elif choice == \"3\":\n",
    "            issue_book()\n",
    "        elif choice == \"4\":\n",
    "            return_book()\n",
    "        elif choice == \"5\":\n",
    "            view_issued_books()\n",
    "        elif choice == \"6\":\n",
    "            print(\"Exiting the library system. Goodbye!\")\n",
    "            break\n",
    "        else:\n",
    "            print(\"Invalid option. Please choose a valid option from 1 to 6.\")\n",
    "\n",
    "welcome_message()\n",
    "if login_system():\n",
    "    menu()"
   ]
  },
  {
   "cell_type": "code",
   "execution_count": null,
   "id": "0ecebfbe-6cd3-4e7c-a079-e4515e5b1edd",
   "metadata": {},
   "outputs": [],
   "source": []
  },
  {
   "cell_type": "code",
   "execution_count": null,
   "id": "bbec4143-4bd2-4e99-83c0-7c61f060dfd5",
   "metadata": {},
   "outputs": [],
   "source": []
  },
  {
   "cell_type": "code",
   "execution_count": null,
   "id": "ed9058e7-7bbf-41ce-8bac-76cc53e4c98f",
   "metadata": {},
   "outputs": [],
   "source": []
  }
 ],
 "metadata": {
  "kernelspec": {
   "display_name": "Python [conda env:base] *",
   "language": "python",
   "name": "conda-base-py"
  },
  "language_info": {
   "codemirror_mode": {
    "name": "ipython",
    "version": 3
   },
   "file_extension": ".py",
   "mimetype": "text/x-python",
   "name": "python",
   "nbconvert_exporter": "python",
   "pygments_lexer": "ipython3",
   "version": "3.12.7"
  }
 },
 "nbformat": 4,
 "nbformat_minor": 5
}
