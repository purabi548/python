{
 "cells": [
  {
   "cell_type": "markdown",
   "id": "1ca28666-879b-4995-91e8-2836130ab4e0",
   "metadata": {},
   "source": [
    "Q1. Create the first numpy array of 1-D with values (1,2,3,0).\n",
    " Create a second numpy array of 1-D with values (4,1,0,\n",
    " 6). Perform following simple arithme�c opera�ons on\n",
    " these two numpy arrays:\n",
    " • Addi�on\n",
    " • Subtrac�on\n",
    " • Mul�plica�on\n",
    " • Division"
   ]
  },
  {
   "cell_type": "code",
   "execution_count": 5,
   "id": "9c1f03be-0a70-4037-af5f-cc4a5d6c0123",
   "metadata": {},
   "outputs": [
    {
     "name": "stdout",
     "output_type": "stream",
     "text": [
      "[1 2 3 0]\n",
      "[4 1 0 6]\n"
     ]
    }
   ],
   "source": [
    "import numpy as np\n",
    "a = np.array([1,2,3,0])\n",
    "b = np.array([4,1,0,6])\n",
    "print(a)\n",
    "print(b)"
   ]
  },
  {
   "cell_type": "code",
   "execution_count": 7,
   "id": "838e70fc-6a46-4a64-872a-57e14e9cbfb2",
   "metadata": {},
   "outputs": [
    {
     "name": "stdout",
     "output_type": "stream",
     "text": [
      "[5 3 3 6]\n"
     ]
    }
   ],
   "source": [
    "#Addition\n",
    "a+b\n",
    "print(a+b)"
   ]
  },
  {
   "cell_type": "code",
   "execution_count": 9,
   "id": "d1f65596-b3a0-4862-b186-7fd2864972f6",
   "metadata": {},
   "outputs": [
    {
     "name": "stdout",
     "output_type": "stream",
     "text": [
      "[-3  1  3 -6]\n"
     ]
    }
   ],
   "source": [
    "#Subtraction\n",
    "a-b\n",
    "print(a-b)"
   ]
  },
  {
   "cell_type": "code",
   "execution_count": 11,
   "id": "b09b907f-4cd1-4042-aa7d-6cfdba196588",
   "metadata": {},
   "outputs": [
    {
     "name": "stdout",
     "output_type": "stream",
     "text": [
      "[4 2 0 0]\n"
     ]
    }
   ],
   "source": [
    "#multiplication\n",
    "a*b\n",
    "print(a*b)"
   ]
  },
  {
   "cell_type": "code",
   "execution_count": 13,
   "id": "239bb454-34f5-4b1d-a120-70d387465b37",
   "metadata": {},
   "outputs": [
    {
     "name": "stdout",
     "output_type": "stream",
     "text": [
      "[0.25 2.    inf 0.  ]\n"
     ]
    },
    {
     "name": "stderr",
     "output_type": "stream",
     "text": [
      "C:\\Users\\under\\AppData\\Local\\Temp\\ipykernel_10708\\55919365.py:2: RuntimeWarning: divide by zero encountered in divide\n",
      "  result = a/b\n"
     ]
    }
   ],
   "source": [
    "#Division\n",
    "result = a/b\n",
    "print(result)"
   ]
  },
  {
   "cell_type": "markdown",
   "id": "203bfc94-0373-4096-a66c-43acf0a27274",
   "metadata": {},
   "source": [
    "Q2. Create the first numpy array of random integers\n",
    " between 1-100 of 5 elements in 1-D. Create second\n",
    " numpy array of 2-D for the same range of integers of\n",
    " shape 4*5. Now perform following simple arithme�c\n",
    " opera�ons on these two numpy arrays:\n",
    " • Addi�on\n",
    " • Subtrac�on"
   ]
  },
  {
   "cell_type": "code",
   "execution_count": 16,
   "id": "82130f99-d83c-46a5-9731-60037a7eb29b",
   "metadata": {},
   "outputs": [
    {
     "name": "stdout",
     "output_type": "stream",
     "text": [
      "[43 94 33 53 82]\n",
      "[[46  4 33 95 45]\n",
      " [54 86 51 86 71]\n",
      " [ 7 38 88 10 35]\n",
      " [62 98 95 61 13]]\n",
      "Addition: [[ 89  98  66 148 127]\n",
      " [ 97 180  84 139 153]\n",
      " [ 50 132 121  63 117]\n",
      " [105 192 128 114  95]]\n",
      "Subtraction: [[ -3  90   0 -42  37]\n",
      " [-11   8 -18 -33  11]\n",
      " [ 36  56 -55  43  47]\n",
      " [-19  -4 -62  -8  69]]\n"
     ]
    }
   ],
   "source": [
    "a1=np.random.randint(1,100,5)\n",
    "a2= np.random.randint(1,100,(4,5))\n",
    "print(a1)\n",
    "print(a2)\n",
    "#addition\n",
    "print(\"Addition:\",(a1+a2)) #broadcasting, here a1 is 1D,(5) and a2 is 2D with dimensions (4,5). a1 is converted to 2D, (1,5) and streched to (4,5)\n",
    "#subtraction\n",
    "print(\"Subtraction:\",(a1-a2))"
   ]
  },
  {
   "cell_type": "markdown",
   "id": "b3a3e109-ad02-41fb-a740-8418e3a29009",
   "metadata": {},
   "source": [
    "Q3. Create a 3-D array of 27 random elements using random\n",
    " func�on of shape 3*3*3. Now pull the following\n",
    " elements using indexing/slicing\n",
    " •Third column of second 2-D array\n",
    " • First and third row of first 2-D array\n",
    " • Intersec�on of first row and third column in\n",
    " third 2-D aray"
   ]
  },
  {
   "cell_type": "code",
   "execution_count": 19,
   "id": "674ed651-bfee-4296-a299-6d0c818930ce",
   "metadata": {},
   "outputs": [
    {
     "data": {
      "text/plain": [
       "array([[[68, 38, 61],\n",
       "        [47, 24, 46],\n",
       "        [53, 61,  1]],\n",
       "\n",
       "       [[25,  9, 40],\n",
       "        [15, 17, 79],\n",
       "        [73, 88, 81]],\n",
       "\n",
       "       [[ 6, 61, 45],\n",
       "        [ 2, 69, 95],\n",
       "        [29, 69, 98]]])"
      ]
     },
     "execution_count": 19,
     "metadata": {},
     "output_type": "execute_result"
    }
   ],
   "source": [
    "b1 = np.random.randint(1,100,27).reshape(3,3,3)\n",
    "b1\n"
   ]
  },
  {
   "cell_type": "code",
   "execution_count": 21,
   "id": "e3d4f4c2-45e2-4967-a183-a2f00b4485fa",
   "metadata": {},
   "outputs": [
    {
     "data": {
      "text/plain": [
       "array([40, 79, 81])"
      ]
     },
     "execution_count": 21,
     "metadata": {},
     "output_type": "execute_result"
    }
   ],
   "source": [
    "#Third column of second 2-D array\n",
    "b1[1,:,2]"
   ]
  },
  {
   "cell_type": "code",
   "execution_count": 23,
   "id": "04e7d276-f8af-452c-a823-510aa933367a",
   "metadata": {},
   "outputs": [
    {
     "data": {
      "text/plain": [
       "array([[68, 38, 61],\n",
       "       [53, 61,  1]])"
      ]
     },
     "execution_count": 23,
     "metadata": {},
     "output_type": "execute_result"
    }
   ],
   "source": [
    "#First and third row of first 2-D array\n",
    "b1[0,0:3:2,:]"
   ]
  },
  {
   "cell_type": "code",
   "execution_count": 25,
   "id": "91db57c7-3a7a-4246-8595-8475b9f15a34",
   "metadata": {},
   "outputs": [
    {
     "data": {
      "text/plain": [
       "45"
      ]
     },
     "execution_count": 25,
     "metadata": {},
     "output_type": "execute_result"
    }
   ],
   "source": [
    "#Intersec�on of first row and third column in third 2-D aray\n",
    "b1[2,0,2]"
   ]
  },
  {
   "cell_type": "markdown",
   "id": "fc9483cb-e59d-4d94-a9ce-cf21c7b36b01",
   "metadata": {},
   "source": [
    "Q4. Create a 2-D numpy array of random integers between\n",
    " 1 to 100 with shape 5*4. Now perform following\n",
    " opera�ons: \n",
    " • Print only the even numbers from this array\n",
    " • Print only the odd numbers from this array\n",
    " • Print row wise sum of all elements\n",
    " • Print column wise sum of all elements\n",
    " • Convert this 2-D array into 3-D array of shape\n",
    " 2*2*5 "
   ]
  },
  {
   "cell_type": "code",
   "execution_count": 28,
   "id": "4fc161e2-08d4-49b8-8a2a-23f17c6f51ae",
   "metadata": {},
   "outputs": [
    {
     "data": {
      "text/plain": [
       "array([[75, 96, 74, 31],\n",
       "       [90, 20, 27, 11],\n",
       "       [74, 42, 21, 31],\n",
       "       [26, 89,  6, 75],\n",
       "       [72, 19, 73, 19]])"
      ]
     },
     "execution_count": 28,
     "metadata": {},
     "output_type": "execute_result"
    }
   ],
   "source": [
    "c1=np.random.randint(1,100,(5,4))\n",
    "c1"
   ]
  },
  {
   "cell_type": "code",
   "execution_count": 30,
   "id": "6f6f8d4f-8988-4896-8f5d-0db73ae455c7",
   "metadata": {},
   "outputs": [
    {
     "data": {
      "text/plain": [
       "array([96, 74, 90, 20, 74, 42, 26,  6, 72])"
      ]
     },
     "execution_count": 30,
     "metadata": {},
     "output_type": "execute_result"
    }
   ],
   "source": [
    "#Print only the even numbers from this array\n",
    "c1[c1%2==0]"
   ]
  },
  {
   "cell_type": "code",
   "execution_count": 32,
   "id": "4b8f789c-769c-43b9-8129-b4b0f8deeff2",
   "metadata": {},
   "outputs": [
    {
     "data": {
      "text/plain": [
       "array([75, 31, 27, 11, 21, 31, 89, 75, 19, 73, 19])"
      ]
     },
     "execution_count": 32,
     "metadata": {},
     "output_type": "execute_result"
    }
   ],
   "source": [
    "#Print only the odd numbers from this array\n",
    "c1[~c1%2==0]"
   ]
  },
  {
   "cell_type": "code",
   "execution_count": 34,
   "id": "26264019-803f-4495-a4f6-1c28cc1f7f25",
   "metadata": {},
   "outputs": [
    {
     "data": {
      "text/plain": [
       "array([337, 266, 201, 167])"
      ]
     },
     "execution_count": 34,
     "metadata": {},
     "output_type": "execute_result"
    }
   ],
   "source": [
    "#Print column wise sum of all elements\n",
    "np.sum(c1,axis=0)"
   ]
  },
  {
   "cell_type": "code",
   "execution_count": 36,
   "id": "577f0b98-be4c-4a27-8551-6c520802fc58",
   "metadata": {},
   "outputs": [
    {
     "data": {
      "text/plain": [
       "array([[[75, 96, 74, 31, 90],\n",
       "        [20, 27, 11, 74, 42]],\n",
       "\n",
       "       [[21, 31, 26, 89,  6],\n",
       "        [75, 72, 19, 73, 19]]])"
      ]
     },
     "execution_count": 36,
     "metadata": {},
     "output_type": "execute_result"
    }
   ],
   "source": [
    "#Convert this 2-D array into 3-D array of shape 2*2*5 \n",
    "c1_reshape = c1.reshape((2,2,5))\n",
    "c1_reshape"
   ]
  },
  {
   "cell_type": "markdown",
   "id": "b5aa215b-e130-4dfe-9604-0055c419808b",
   "metadata": {},
   "source": [
    "Q5. Create a 2-D numpy array of random integers between\n",
    " 1 to 100 with shape 5*4. Now perform following\n",
    " opera�ons:\n",
    " • Swap first row with third row\n",
    " • Swap second column with fourth column.\n",
    " • Replace the values less than 50 with zero.\n",
    " • Convert this 2D array into 1-D array"
   ]
  },
  {
   "cell_type": "code",
   "execution_count": 39,
   "id": "666026a9-b455-4dc9-b2d2-e593fd82906f",
   "metadata": {},
   "outputs": [
    {
     "data": {
      "text/plain": [
       "array([[39, 18, 82,  6],\n",
       "       [98, 53, 69, 87],\n",
       "       [95, 55, 27, 76],\n",
       "       [61, 59, 17, 80],\n",
       "       [52, 99, 88, 82]])"
      ]
     },
     "execution_count": 39,
     "metadata": {},
     "output_type": "execute_result"
    }
   ],
   "source": [
    "d1= np.random.randint(1,100,(5,4))\n",
    "d1"
   ]
  },
  {
   "cell_type": "code",
   "execution_count": 41,
   "id": "2bdad506-d731-4fa4-9c70-e248187be644",
   "metadata": {},
   "outputs": [
    {
     "data": {
      "text/plain": [
       "array([[95, 55, 27, 76],\n",
       "       [98, 53, 69, 87],\n",
       "       [39, 18, 82,  6],\n",
       "       [61, 59, 17, 80],\n",
       "       [52, 99, 88, 82]])"
      ]
     },
     "execution_count": 41,
     "metadata": {},
     "output_type": "execute_result"
    }
   ],
   "source": [
    "#Swap first row with third row\n",
    "d2=np.array(d1)\n",
    "d2[[0, 2]] = d2[[2, 0]]\n",
    "d2"
   ]
  },
  {
   "cell_type": "code",
   "execution_count": 43,
   "id": "2c02fd83-29ca-4b90-9c7a-006fab3a85f2",
   "metadata": {},
   "outputs": [
    {
     "data": {
      "text/plain": [
       "array([[39,  6, 82, 18],\n",
       "       [98, 87, 69, 53],\n",
       "       [95, 76, 27, 55],\n",
       "       [61, 80, 17, 59],\n",
       "       [52, 82, 88, 99]])"
      ]
     },
     "execution_count": 43,
     "metadata": {},
     "output_type": "execute_result"
    }
   ],
   "source": [
    "#Swap second column with fourth column.\n",
    "d3=np.array(d1)\n",
    "d3[:,[1,3]]=d3[:,[3,1]]\n",
    "d3"
   ]
  },
  {
   "cell_type": "code",
   "execution_count": 45,
   "id": "57061b91-3de1-488e-b7d5-5bc247805fc9",
   "metadata": {},
   "outputs": [
    {
     "data": {
      "text/plain": [
       "array([[ 0,  0, 82,  0],\n",
       "       [98, 53, 69, 87],\n",
       "       [95, 55,  0, 76],\n",
       "       [61, 59,  0, 80],\n",
       "       [52, 99, 88, 82]])"
      ]
     },
     "execution_count": 45,
     "metadata": {},
     "output_type": "execute_result"
    }
   ],
   "source": [
    "# Replace the values less than 50 with zero.\n",
    "np.where(d1<50,0,d1)"
   ]
  },
  {
   "cell_type": "code",
   "execution_count": 47,
   "id": "13f6e34b-6dd9-4fc5-81d3-f5c31342036d",
   "metadata": {
    "scrolled": true
   },
   "outputs": [
    {
     "data": {
      "text/plain": [
       "array([39, 18, 82,  6, 98, 53, 69, 87, 95, 55, 27, 76, 61, 59, 17, 80, 52,\n",
       "       99, 88, 82])"
      ]
     },
     "execution_count": 47,
     "metadata": {},
     "output_type": "execute_result"
    }
   ],
   "source": [
    "#Convert this 2D array into 1-D array\n",
    "d4=d1.ravel()\n",
    "d4"
   ]
  },
  {
   "cell_type": "markdown",
   "id": "897ed3c1-a3be-4799-b981-522537dbf388",
   "metadata": {},
   "source": [
    "Q6. Explain the concept of stacking in numpy with examples.\n",
    " How is it different from concatena�on. Give any 3\n",
    " differences between them"
   ]
  },
  {
   "cell_type": "markdown",
   "id": "47c81b30-a44b-41de-a410-b929167cbf5a",
   "metadata": {},
   "source": [
    "Stacking in NumPy refers to joining multiple arrays along a new axis. This results in an increase in the dimensionality of the arrays. Essentially, it \"stacks\" arrays along an axis that is added to the original arrays.\n",
    "Types of Stacking:\n",
    "Vertical Stacking (np.vstack()): Stack arrays vertically ie along rows. adds a dimension\n",
    "Horizontal Stacking (np.hstack()): Stack arrays horizontally, ie along columns."
   ]
  },
  {
   "cell_type": "code",
   "execution_count": 51,
   "id": "8f38c035-081f-4f36-ac36-d2d41e848751",
   "metadata": {},
   "outputs": [
    {
     "name": "stdout",
     "output_type": "stream",
     "text": [
      "VERTICLE STACKING: [[1 2]\n",
      " [5 6]]\n",
      "HORIZENTAL STACKING: [1 2 5 6]\n"
     ]
    }
   ],
   "source": [
    "#example of verticle stacking & horizental stacking\n",
    "a = np.array([1, 2])\n",
    "b = np.array([5, 6])\n",
    "verticle_stack = np.vstack((a, b))\n",
    "horizental_stack = np.hstack((a, b))\n",
    "print(\"VERTICLE STACKING:\",verticle_stack)\n",
    "print(\"HORIZENTAL STACKING:\",horizental_stack)"
   ]
  },
  {
   "cell_type": "markdown",
   "id": "ae67c252-d254-4c66-88e7-14cf3a2d2462",
   "metadata": {},
   "source": [
    "Concatenation in NumPy refers to the operation of joining two or more arrays along a specific axis. Unlike stacking, concatenation does not add any new axes to the arrays. Instead, it combines arrays along an existing axis, either row-wise (axis 0) or column-wise (axis 1)"
   ]
  },
  {
   "cell_type": "code",
   "execution_count": 55,
   "id": "4f531bda-6b26-430c-b1f4-4962710200f9",
   "metadata": {},
   "outputs": [
    {
     "name": "stdout",
     "output_type": "stream",
     "text": [
      "[1 2 5 6]\n"
     ]
    }
   ],
   "source": [
    "#example\n",
    "arr1 = np.array([1, 2])\n",
    "arr2 = np.array([5, 6])\n",
    "\n",
    "concatenated = np.concatenate((arr1, arr2)) \n",
    "print(concatenated)"
   ]
  },
  {
   "cell_type": "markdown",
   "id": "535ccfe5-3576-4da2-96dc-820f7bb16d59",
   "metadata": {},
   "source": [
    "Three difference between stacking and concatenate are:\n",
    "1.New Axis vs. Existing Axis: Stacking adds a new axis to combine the arrays. The result will have one more dimension than the original arrays.\n",
    "Whereas concatenation combines arrays along an existing axis without adding new dimensions.\n",
    "\n",
    "2.Function Used: The np.stack() function is used to add a new axis for stacking arrays.\n",
    "The np.concatenate() function is used to merge arrays along a specified axis.\n",
    "\n",
    "3.Dimensionality: Stacking increases the number of dimensions by one.Concatenation Keeps the same number of dimensions as the arrays being combined."
   ]
  }
 ],
 "metadata": {
  "kernelspec": {
   "display_name": "Python [conda env:base] *",
   "language": "python",
   "name": "conda-base-py"
  },
  "language_info": {
   "codemirror_mode": {
    "name": "ipython",
    "version": 3
   },
   "file_extension": ".py",
   "mimetype": "text/x-python",
   "name": "python",
   "nbconvert_exporter": "python",
   "pygments_lexer": "ipython3",
   "version": "3.12.7"
  }
 },
 "nbformat": 4,
 "nbformat_minor": 5
}
