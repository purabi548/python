{
 "cells": [
  {
   "cell_type": "markdown",
   "id": "a5296b2e-97bb-4429-b87d-9ca88b765790",
   "metadata": {},
   "source": [
    "Q1. Explain the 3 differences between List and tuples.\n",
    "     a. List are mutable whereas tuples are immutable \n",
    "     b. Lists are created using square brackets [] whereas tuples are created using parentheses ().\n",
    "     c.Lists are generally slower than tuples because they are mutable and require more overhead for managing changes.Whereas tuples are typically faster than lists, especially for iteration or when used as keys in dictionaries, because they are immutable and more optimized for fixed-size data."
   ]
  },
  {
   "cell_type": "markdown",
   "id": "78f1e1aa-ef3c-4baf-8e58-98660021a37d",
   "metadata": {},
   "source": [
    "Q2.You’re a Data Scientist. You have assigned a task to perform.Create two lists l1 & l2, where l1 has values -> (1,2,3,4,5,6) and l2 has values -> (6,5,4,3,2,1). Compare the corresponding element values of both the lists and print “L1 element value is greater than L2 element value” if corresponding value from l1 is greater else print “L1 element value is less than L2 element value” if corresponding value from l1 is less than l2."
   ]
  },
  {
   "cell_type": "code",
   "execution_count": 69,
   "id": "d681bbed-0b99-4ab0-8631-5fa05e049835",
   "metadata": {},
   "outputs": [
    {
     "name": "stdout",
     "output_type": "stream",
     "text": [
      "l1 element value is less than l2 element value\n",
      "l1 element value is less than l2 element value\n",
      "l1 element value is less than l2 element value\n",
      "l1 element value is greater than l2 element value\n",
      "l1 element value is greater than l2 element value\n",
      "l1 element value is greater than l2 element value\n"
     ]
    }
   ],
   "source": [
    "\n",
    "l1=[1,2,3,4,5,6]\n",
    "l2=[6,5,4,3,2,1]\n",
    "for i in range(len(l1)):\n",
    "    for j in range(len(l2)):\n",
    "        if i==j:\n",
    "            if l1[i]>l2[j]:\n",
    "                print(\"l1 element value is greater than l2 element value\")\n",
    "            else:\n",
    "                print(\"l1 element value is less than l2 element value\")\n",
    "\n"
   ]
  },
  {
   "cell_type": "markdown",
   "id": "e9864c34-d3b9-4e08-b9ca-47070eb6bdbe",
   "metadata": {},
   "source": [
    "Q3.Write a Python user defined function that takes a list of numbers from user and returns a dictionary with the numberas the key and its square as the value."
   ]
  },
  {
   "cell_type": "code",
   "execution_count": 127,
   "id": "4e78181e-f00e-494e-a5fe-5df0ed672591",
   "metadata": {},
   "outputs": [
    {
     "name": "stdin",
     "output_type": "stream",
     "text": [
      " enter a list: 1 2 3 4 5\n"
     ]
    },
    {
     "name": "stdout",
     "output_type": "stream",
     "text": [
      "{1: 1, 2: 4, 3: 9, 4: 16, 5: 25}\n"
     ]
    }
   ],
   "source": [
    "\n",
    "def num_sq():\n",
    "    lst=input(\" enter a list seperated by space:\")\n",
    "    lst1 = [int(x) for x in lst.split()]\n",
    "    dict1={num:num**2 for num in lst1}\n",
    "    print(dict1)\n",
    "num_sq()"
   ]
  },
  {
   "cell_type": "markdown",
   "id": "e1588c84-99c4-401b-b189-445d47582b16",
   "metadata": {},
   "source": [
    "Q4.You work in a Company as a Analyst. The company officials want you to build a python based Calculator. Write code to create a user defined \n",
    "function named Calculator.\n",
    "●\tUser will pass 3 parameters in Calculator function – int1, int2, task\n",
    "●\tThe task string will be ‘add’, ‘sub’, ‘mul’, ‘div’. Perform Addition, Subtraction, Multiplication and Division on the two numbers(int1, int2) \n",
    "respectively. Make sure the task parameter is case insensitive (meaning that even if user passes ‘aDd’ as command it should perform addition on two\n",
    "numbers).\n",
    "●\tDefine logics for addition, subtraction, multiplication and division in Calculator function that take in two numbers and return another number after\n",
    "performing their respective operations.Eg: Calculator(2,5,ADD) should return 7\n",
    " Calculator(7,1,SuB) should return 6"
   ]
  },
  {
   "cell_type": "code",
   "execution_count": 1,
   "id": "acd92cc4-1dc3-4359-bcfd-b55cb3b5ec23",
   "metadata": {},
   "outputs": [
    {
     "name": "stdin",
     "output_type": "stream",
     "text": [
      "enter the first number: 4\n",
      "enter the second number: 5\n",
      "enter the task: div\n"
     ]
    },
    {
     "data": {
      "text/plain": [
       "(4, 5, 0.8)"
      ]
     },
     "execution_count": 1,
     "metadata": {},
     "output_type": "execute_result"
    }
   ],
   "source": [
    "\n",
    "def calculator(int1,int2,task):\n",
    "    int1=int(input(\"enter the first number:\"))\n",
    "    int2=int(input(\"enter the second number:\"))\n",
    "    task=input(\"enter the task:\").lower()\n",
    "    task1=[\"add\",\"sub\",\"mul\",\"div\"]\n",
    "    for i in task1:\n",
    "        if task==\"add\":\n",
    "            result= int1+int2   \n",
    "        elif task==\"sub\":\n",
    "            result= int1-int2\n",
    "        elif task== \"mul\":\n",
    "            result=int1*int2\n",
    "        elif task==\"div\":\n",
    "            result=int1/int2\n",
    "        else:\n",
    "            print(\"please enter valid number:\")\n",
    "        return(int1,int2,result)\n",
    "calculator(2,4,\"add\")\n",
    "    "
   ]
  },
  {
   "cell_type": "markdown",
   "id": "6d940f7c-27cd-44a7-8557-e1b24521eb20",
   "metadata": {},
   "source": [
    "Q5.Write a Function to check if the year number is a leap year or not. Print all Leap Years of 21st Century."
   ]
  },
  {
   "cell_type": "code",
   "execution_count": 41,
   "id": "6de78dab-a4a5-4454-b900-377401fd8721",
   "metadata": {},
   "outputs": [
    {
     "name": "stdin",
     "output_type": "stream",
     "text": [
      "enter the year: 2011\n"
     ]
    },
    {
     "name": "stdout",
     "output_type": "stream",
     "text": [
      "2011  is not a leap year\n",
      "2004 2008 2012 2016 2020 2024 2028 2032 2036 2040 2044 2048 2052 2056 2060 2064 2068 2072 2076 2080 2084 2088 2092 2096 "
     ]
    }
   ],
   "source": [
    "\n",
    "def leap_year():\n",
    "    year=int(input(\"enter the year:\"))\n",
    "    if (year%4==0 and year%100 !=0) or (year%400==0):\n",
    "        print(year,\"is a leap year\")\n",
    "    else:\n",
    "        print(year,\" is not a leap year\")\n",
    "leap_year()\n",
    "for i in range(2001,2100):\n",
    "    if(i%4==0 and i%100!=0)or (i%400==0):\n",
    "        print(i,end=' ')"
   ]
  },
  {
   "cell_type": "markdown",
   "id": "833ffcec-6c91-47fd-b6f4-ab3b529fb59c",
   "metadata": {},
   "source": [
    "Q6.Write a python code to print the following pattern. \n",
    "1\n",
    "1 2\n",
    "1 2 3\n",
    "1 2 3 4\n",
    "1 2 3 4 5\n",
    "\n"
   ]
  },
  {
   "cell_type": "code",
   "execution_count": 71,
   "id": "8456af92-dd3e-48b2-87a9-3e48dae8b5ed",
   "metadata": {},
   "outputs": [
    {
     "name": "stdout",
     "output_type": "stream",
     "text": [
      "1 \n",
      "1 2 \n",
      "1 2 3 \n",
      "1 2 3 4 \n",
      "1 2 3 4 5 \n"
     ]
    }
   ],
   "source": [
    "for i in range(1,6):\n",
    "    for j in range(1,i+1):\n",
    "        print(j,end=\" \")\n",
    "        \n",
    "    print(\"\\r\")"
   ]
  },
  {
   "cell_type": "markdown",
   "id": "e111ed89-ce9a-4ed7-80a0-2c6ce6973102",
   "metadata": {},
   "source": [
    "Q7 Write a Python program to convert a list of tuples to dictionary?\n",
    "Eg: I/P --  [(\"name\",\"Virat\"),(\"surname\",\"Kohli\"),(\"yob\",1986)]\n",
    "      O/P -- {'name': 'Virat', 'surname': 'Kohli', 'yob': 1986}\n"
   ]
  },
  {
   "cell_type": "code",
   "execution_count": 115,
   "id": "791df425-9953-44a9-829b-5b7b158ce03e",
   "metadata": {},
   "outputs": [
    {
     "name": "stdin",
     "output_type": "stream",
     "text": [
      "how many tuples you want to create: 3\n",
      "enter the first value: name\n",
      "enter the second value: virat\n",
      "enter the first value: surname\n",
      "enter the second value: kholi\n",
      "enter the first value: yob\n",
      "enter the second value: 1986\n",
      "enter the second value 1986\n"
     ]
    },
    {
     "data": {
      "text/plain": [
       "{'name': 'virat', 'surname': 'kholi', 'yob': 1986}"
      ]
     },
     "execution_count": 115,
     "metadata": {},
     "output_type": "execute_result"
    }
   ],
   "source": [
    "lst=[]\n",
    "n=int(input(\"how many tuples you want to create:\"))\n",
    "for i in range(n):\n",
    "    a=input(\"enter the first value:\")\n",
    "    b=input(\"enter the second value:\")\n",
    "    if i==n-1:\n",
    "        b=int(input(\"enter the second value\"))\n",
    "    lst.append((a,b))\n",
    "lst\n",
    "dict1=dict(lst)\n",
    "dict1"
   ]
  },
  {
   "cell_type": "markdown",
   "id": "03bbce70-358b-4071-aa3b-8de0a1e6ca45",
   "metadata": {},
   "source": [
    "Q8 . Write a Function to take a list from user and return 2 lists:\n",
    "-\t1st list should contain all even indexed numbers.\n",
    "-\t2nd list should contain all odd indexed numbers.\n"
   ]
  },
  {
   "cell_type": "code",
   "execution_count": 167,
   "id": "e3f0cf9a-2e5e-4039-acde-817e3c4ad300",
   "metadata": {},
   "outputs": [
    {
     "name": "stdin",
     "output_type": "stream",
     "text": [
      "print number of elements you want to add to the lsit 3\n",
      "enter the type of data: int\n",
      "enter an integer: 3\n",
      "enter the type of data: float\n",
      "enter a float value: 7\n",
      "enter the type of data: str\n",
      "enter a string value: purabi\n"
     ]
    },
    {
     "name": "stdout",
     "output_type": "stream",
     "text": [
      "[3, 'purabi']\n",
      "[7.0]\n"
     ]
    }
   ],
   "source": [
    "def lst():\n",
    "    input_lst=[]\n",
    "    n=int(input(\"print number of elements you want to add to the lsit\"))\n",
    "    for i in range(n):\n",
    "        datatype=input(\"enter the type of data:\").lower()\n",
    "        if datatype==\"int\":\n",
    "            value=int(input(\"enter an integer:\"))\n",
    "        elif datatype==\"float\":\n",
    "            value=float(input(\"enter a float value:\"))\n",
    "        elif datatype== \"str\":  \n",
    "            value=str(input(\"enter a string value:\"))\n",
    "        input_lst.append(value)\n",
    "\n",
    "    evenlist=[]\n",
    "    oddlist=[]\n",
    "    for index,value in enumerate(input_lst):\n",
    "        if index%2==0:\n",
    "            evenlist.append(value)\n",
    "        else:\n",
    "            oddlist.append(value)\n",
    "    print(evenlist)\n",
    "    print(oddlist)\n",
    "lst()"
   ]
  },
  {
   "cell_type": "markdown",
   "id": "4d8e1f2d-0b69-4329-82cb-6706c4375781",
   "metadata": {},
   "source": [
    "Q9. Create a function longest_word(sentence) that takes a sentence as input and returns  the  longest word in  the  sentence. If two or  more words have the  same length, return the first one.\n",
    "\n",
    "Eg: longest_word(\"Python programming is fun\")   # Output: 'programming'\n",
    "\n",
    "\n"
   ]
  },
  {
   "cell_type": "code",
   "execution_count": 23,
   "id": "73be5c21-133a-4998-a492-17a56ebba1a4",
   "metadata": {},
   "outputs": [
    {
     "name": "stdin",
     "output_type": "stream",
     "text": [
      "please enter a sentence: find the longest word in the sentence\n"
     ]
    },
    {
     "name": "stdout",
     "output_type": "stream",
     "text": [
      "longest word: sentence\n"
     ]
    }
   ],
   "source": [
    "def longest_word(sentence):\n",
    "    words=sentence.split()\n",
    "    long_word= \"\"\n",
    "    for word in words:\n",
    "        if len(word)>len(long_word):\n",
    "            long_word=word\n",
    "    return long_word\n",
    "sentence=input(\"please enter a sentence:\")\n",
    "print(\"longest word:\",longest_word(sentence))\n",
    "        "
   ]
  },
  {
   "cell_type": "markdown",
   "id": "430cf71e-8017-4363-90d0-b197f4ec5d6d",
   "metadata": {},
   "source": [
    "Q10. Write a Python  program  that takes a list and counts  the frequency of each  element using a dictionary. The keys of the dictionary should be the list elements, and the values should be the counts\n",
    "\n",
    "Eg: I/P:   [1, 2, 2, 3, 4, 4, 4, 5, 5] \n",
    "       o/p: {1: 1, 2: 2, 3: 1, 4: 3, 5: 2}\n",
    "\n"
   ]
  },
  {
   "cell_type": "code",
   "execution_count": 33,
   "id": "4b949c94-c78a-4e6c-b094-25e7286f2cab",
   "metadata": {},
   "outputs": [
    {
     "name": "stdin",
     "output_type": "stream",
     "text": [
      "enter a list  122344455\n"
     ]
    },
    {
     "name": "stdout",
     "output_type": "stream",
     "text": [
      "{'1': 1, '2': 2, '3': 1, '4': 3, '5': 2}\n"
     ]
    }
   ],
   "source": [
    "def count_element():\n",
    "    lst=list(input(\"enter a list \"))\n",
    "    count={}\n",
    "    for elements in lst:\n",
    "        if elements in count:\n",
    "            count[elements]+=1\n",
    "        else:\n",
    "            count[elements]=1\n",
    "        \n",
    "    print(count)\n",
    "count_element()\n",
    "    "
   ]
  },
  {
   "cell_type": "code",
   "execution_count": null,
   "id": "e7051054-a85f-48d7-8a36-2976495805df",
   "metadata": {},
   "outputs": [],
   "source": []
  }
 ],
 "metadata": {
  "kernelspec": {
   "display_name": "Python [conda env:base] *",
   "language": "python",
   "name": "conda-base-py"
  },
  "language_info": {
   "codemirror_mode": {
    "name": "ipython",
    "version": 3
   },
   "file_extension": ".py",
   "mimetype": "text/x-python",
   "name": "python",
   "nbconvert_exporter": "python",
   "pygments_lexer": "ipython3",
   "version": "3.12.7"
  }
 },
 "nbformat": 4,
 "nbformat_minor": 5
}
